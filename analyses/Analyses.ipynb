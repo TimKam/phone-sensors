{
 "cells": [
  {
   "cell_type": "markdown",
   "metadata": {},
   "source": [
    "# Sensor data acquisition\n",
    "In this notebook, I will analyse sensor data I logged with my Android phone (Motorola G4 Play) using the [Sensor Fusion app](http://users.isy.liu.se/en/rt/fredrik/app/).You find the code of this project on GitHub at [https://github.com/TimKam/phone-sensors](https://github.com/TimKam/phone-sensors).\n"
   ]
  },
  {
   "cell_type": "markdown",
   "metadata": {},
   "source": [
    "## Data generation\n",
    "You find the data logs in the root repository at ``logs/phone_1_moto_g4_play``.\n",
    "To facilitate data analyses, I generated the log data as follows:\n",
    "\n",
    "* The 1st log was created with the phone lying on a table roughly 1.5-2 meters from the next Wifi access point.\n",
    "* The 2nd 2 meters from the next Wifi access point, changing the phones orientation by very roughly 90 degrees in comparison to the 1st position.\n",
    "* The 3rd log was created with the phone lying on the ground approximately 5 meters from the next Wifi access point, changing the phones orientation by again very roughly 90 degrees.\n",
    "* The 4rd log was created while trying to hold the phone still in one hand.\n",
    "* The 5th log was created while trying to hold the phone still in one hand after doing a couple of pushups (assuming that my hand would shake a bit more then).\n",
    "* The 6th log was created while **jumping up and down** with the phone in one hand.\n",
    "* The 7th log was created while **walking** with the phone in one hand.\n",
    "* The 8th log was created while **running** with the phone in one hand. \n",
    "\n",
    "The sensors logged the following type of data:\n",
    "\n",
    "* acceleration,\n",
    "\n",
    "* proximity,\n",
    "\n",
    "* light,\n",
    "\n",
    "* RSS BLE,\n",
    "\n",
    "* RSS WIFI,\n",
    "\n",
    "* RSS cellular network."
   ]
  },
  {
   "cell_type": "markdown",
   "metadata": {},
   "source": [
    "## Initial data analysis\n",
    "\n",
    "Start by importing the required dependencies and loading the data."
   ]
  },
  {
   "cell_type": "code",
   "execution_count": 86,
   "metadata": {},
   "outputs": [],
   "source": [
    "import matplotlib.pyplot as plot\n",
    "from matplotlib.ticker import FormatStrFormatter\n",
    "import numpy\n",
    "import pandas\n",
    "import scipy.stats\n",
    "\n",
    "# specify max fields per column so pandas can deal with dynamic number of fields per column\n",
    "names = ['a', 'type', 'c', 'd', 'e', 'f', 'g', 'h']\n",
    "\n",
    "logs = dict()\n",
    "logs['still_medium'] = pandas.read_csv(\n",
    "    '../logs/phone_1_moto_g4_play/sensorLog_20180206T082409_medium_orientation_1.txt',\n",
    "    sep='\\t', lineterminator='\\n', names=names)\n",
    "logs['still_close'] = pandas.read_csv('../logs/phone_1_moto_g4_play/sensorLog_20180206T082700_close_orientation_2.txt',\n",
    "                                      sep='\\t', lineterminator='\\n', names=names)\n",
    "logs['still_far'] = pandas.read_csv('../logs/phone_1_moto_g4_play/sensorLog_20180206T082920_far_orientation_3.txt',\n",
    "                                    sep='\\t', lineterminator='\\n', names=names)\n",
    "logs['still_in_hand'] = pandas.read_csv('../logs/phone_1_moto_g4_play/sensorLog_20180206T090912_in_hand.txt',\n",
    "                                        sep='\\t', lineterminator='\\n', names=names)\n",
    "logs['still_in_hand_exercise'] = pandas.read_csv(\n",
    "    '../logs/phone_1_moto_g4_play/sensorLog_20180206T091100_in_hand_after_excercise.txt',\n",
    "    sep='\\t', lineterminator='\\n', names=['a', 'b', 'c', 'd', 'e', 'f', 'g', 'h'])\n",
    "logs['jump'] = pandas.read_csv('../logs/phone_1_moto_g4_play/sensorLog_20180206T092528_jumping.txt',\n",
    "                               sep='\\t', lineterminator='\\n', names=names)\n",
    "logs['walk'] = pandas.read_csv('../logs/phone_1_moto_g4_play/sensorLog_20180206T092553_walking.txt',\n",
    "                               sep='\\t', lineterminator='\\n', names=names)\n",
    "logs['run'] = pandas.read_csv('../logs/phone_1_moto_g4_play/sensorLog_20180206T092805_running.txt',\n",
    "                              sep='\\t', lineterminator='\\n', names=names)\n"
   ]
  },
  {
   "cell_type": "markdown",
   "metadata": {},
   "source": [
    "### GPS\n",
    "Plot histograms of the GPS measurements (using the ``still_medium`` log), calculate the standard deviations, and test for a normal distribution:"
   ]
  },
  {
   "cell_type": "code",
   "execution_count": 129,
   "metadata": {},
   "outputs": [
    {
     "data": {
      "image/png": "[encoded data removed]",
      "text/plain": [
       "<matplotlib.figure.Figure at 0x1152ee208>"
      ]
     },
     "metadata": {},
     "output_type": "display_data"
    },
    {
     "name": "stdout",
     "output_type": "stream",
     "text": [
      "Standard deviation: 3.1123122704543886e-05\n",
      "Normal distribution: NormaltestResult(statistic=50.20984387062561, pvalue=1.2504632562056814e-11)\n",
      "\n",
      "\n"
     ]
    },
    {
     "data": {
      "image/png": "[encoded data removed]",
      "text/plain": [
       "<matplotlib.figure.Figure at 0x115654d30>"
      ]
     },
     "metadata": {},
     "output_type": "display_data"
    },
    {
     "name": "stdout",
     "output_type": "stream",
     "text": [
      "Standard deviation: 4.623078790569411e-05\n",
      "Normal distribution: NormaltestResult(statistic=124.12036929094378, pvalue=1.1158460041974252e-27)\n",
      "\n",
      "\n"
     ]
    },
    {
     "data": {
      "image/png": "[encoded data removed]",
      "text/plain": [
       "<matplotlib.figure.Figure at 0x114d02be0>"
      ]
     },
     "metadata": {},
     "output_type": "display_data"
    },
    {
     "ename": "AttributeError",
     "evalue": "'numpy.ndarray' object has no attribute 'as_matrix'",
     "output_type": "error",
     "traceback": [
      "\u001b[0;31m---------------------------------------------------------------------------\u001b[0m",
      "\u001b[0;31mAttributeError\u001b[0m                            Traceback (most recent call last)",
      "\u001b[0;32m<ipython-input-129-cde1d4f2e0a1>\u001b[0m in \u001b[0;36m<module>\u001b[0;34m()\u001b[0m\n\u001b[1;32m     41\u001b[0m \u001b[0mplot\u001b[0m\u001b[0;34m.\u001b[0m\u001b[0mshow\u001b[0m\u001b[0;34m(\u001b[0m\u001b[0;34m)\u001b[0m\u001b[0;34m\u001b[0m\u001b[0m\n\u001b[1;32m     42\u001b[0m \u001b[0;31m# calculate standard deviation\u001b[0m\u001b[0;34m\u001b[0m\u001b[0;34m\u001b[0m\u001b[0m\n\u001b[0;32m---> 43\u001b[0;31m \u001b[0mheights_standard_deviation\u001b[0m \u001b[0;34m=\u001b[0m \u001b[0mnumpy\u001b[0m\u001b[0;34m.\u001b[0m\u001b[0mstd\u001b[0m\u001b[0;34m(\u001b[0m\u001b[0mheights\u001b[0m\u001b[0;34m.\u001b[0m\u001b[0mas_matrix\u001b[0m\u001b[0;34m(\u001b[0m\u001b[0;34m)\u001b[0m\u001b[0;34m.\u001b[0m\u001b[0mastype\u001b[0m\u001b[0;34m(\u001b[0m\u001b[0mfloat\u001b[0m\u001b[0;34m)\u001b[0m\u001b[0;34m)\u001b[0m\u001b[0;34m\u001b[0m\u001b[0m\n\u001b[0m\u001b[1;32m     44\u001b[0m \u001b[0mprint\u001b[0m\u001b[0;34m(\u001b[0m\u001b[0;34m'Standard deviation: '\u001b[0m \u001b[0;34m+\u001b[0m \u001b[0mstr\u001b[0m\u001b[0;34m(\u001b[0m\u001b[0mheights_standard_deviation\u001b[0m\u001b[0;34m)\u001b[0m\u001b[0;34m)\u001b[0m\u001b[0;34m\u001b[0m\u001b[0m\n\u001b[1;32m     45\u001b[0m \u001b[0;31m# test for normal distribution\u001b[0m\u001b[0;34m\u001b[0m\u001b[0;34m\u001b[0m\u001b[0m\n",
      "\u001b[0;31mAttributeError\u001b[0m: 'numpy.ndarray' object has no attribute 'as_matrix'"
     ]
    }
   ],
   "source": [
    "gps_measurements = logs['still_medium'].loc[logs['still_medium']['type'] == 'GPS']\n",
    "latitudes = gps_measurements['c'].as_matrix().astype(float)\n",
    "longitudes = gps_measurements['d'].as_matrix().astype(float)\n",
    "heights = gps_measurements['e'].as_matrix().astype(float)\n",
    "######################################################################\n",
    "# Latitudes\n",
    "######################################################################\n",
    "# plot histogram\n",
    "figure, axis = plot.subplots()\n",
    "counts, bins, patches = axis.hist(latitudes)\n",
    "axis.set_xticks(bins[0::2])\n",
    "plot.xlabel('Latitude')\n",
    "plot.show()\n",
    "# calculate standard deviation\n",
    "latitudes_standard_deviation = numpy.std(latitudes)\n",
    "print('Standard deviation: ' + str(latitudes_standard_deviation))\n",
    "# test for normal distribution\n",
    "print('Normal distribution: ' + str(scipy.stats.normaltest(latitudes)) + '\\n\\n')\n",
    "######################################################################\n",
    "# Longitudes\n",
    "######################################################################\n",
    "# plot histogram\n",
    "figure, axis = plot.subplots()\n",
    "counts, bins, patches = axis.hist(longitudes)\n",
    "axis.set_xticks(bins[0::2])\n",
    "plot.xlabel('Longitude')\n",
    "plot.show()\n",
    "# calculate standard deviation\n",
    "longitudes_standard_deviation = numpy.std(longitudes)\n",
    "print('Standard deviation: ' + str(longitudes_standard_deviation))\n",
    "# test for normal distribution\n",
    "print('Normal distribution: ' + str(scipy.stats.normaltest(longitudes)) + '\\n\\n')\n",
    "######################################################################\n",
    "# Heights\n",
    "######################################################################\n",
    "# plot histogram\n",
    "figure, axis = plot.subplots()\n",
    "counts, bins, patches = axis.hist(heights)\n",
    "axis.set_xticks(bins[0::2])\n",
    "plot.xlabel('Height')\n",
    "plot.show()\n",
    "# calculate standard deviation\n",
    "heights_standard_deviation = numpy.std(heights.as_matrix().astype(float))\n",
    "print('Standard deviation: ' + str(heights_standard_deviation))\n",
    "# test for normal distribution\n",
    "print('Normal distribution: ' + str(scipy.stats.normaltest(heights)) + '\\n\\n')"
   ]
  },
  {
   "cell_type": "markdown",
   "metadata": {},
   "source": [
    "As one can see, the measurements are too inaccurate to precisely measure the position of the phone accurately (on the meter). The errors are not normally distributed; filtering errors is non-trivial. No strinking outliers could be observed."
   ]
  },
  {
   "cell_type": "markdown",
   "metadata": {},
   "source": [
    "### Accelerometer\n",
    "Plot histograms of the accelerometer measurements (using the logs ``still_medium``, ``still_close``, and ``still_far``/ three different phone orientations), calculate norm vectors, standard variations, and means, and test for normal distributions.\n"
   ]
  },
  {
   "cell_type": "code",
   "execution_count": 128,
   "metadata": {},
   "outputs": [
    {
     "name": "stdout",
     "output_type": "stream",
     "text": [
      "\n",
      "\n",
      "Position 1\n"
     ]
    },
    {
     "data": {
      "image/png": "[encoded data removed]",
      "text/plain": [
       "<matplotlib.figure.Figure at 0x114b36828>"
      ]
     },
     "metadata": {},
     "output_type": "display_data"
    },
    {
     "name": "stdout",
     "output_type": "stream",
     "text": [
      "Standard deviation: 0.0243819304608496\n",
      "Normal distribution: NormaltestResult(statistic=6429.981361339528, pvalue=0.0)\n",
      "Mean: 0.12748513788917318\n",
      "\n",
      "\n"
     ]
    },
    {
     "data": {
      "image/png": "[encoded data removed]",
      "text/plain": [
       "<matplotlib.figure.Figure at 0x116d950b8>"
      ]
     },
     "metadata": {},
     "output_type": "display_data"
    },
    {
     "name": "stdout",
     "output_type": "stream",
     "text": [
      "Standard deviation: 0.01991395169811959\n",
      "Normal distribution: NormaltestResult(statistic=5366.920707329142, pvalue=0.0)\n",
      "Mean: -0.2984233488828328\n",
      "\n",
      "\n"
     ]
    },
    {
     "data": {
      "image/png": "[encoded data removed]",
      "text/plain": [
       "<matplotlib.figure.Figure at 0x11635afd0>"
      ]
     },
     "metadata": {},
     "output_type": "display_data"
    },
    {
     "name": "stdout",
     "output_type": "stream",
     "text": [
      "Standard deviation: 0.025106046749755844\n",
      "Normal distribution: NormaltestResult(statistic=20895.686760140426, pvalue=0.0)\n",
      "Mean: 9.819290597812383\n",
      "\n",
      "\n",
      "\n",
      "\n",
      "Position 2\n"
     ]
    },
    {
     "data": {
      "image/png": "[encoded data removed]",
      "text/plain": [
       "<matplotlib.figure.Figure at 0x110a87470>"
      ]
     },
     "metadata": {},
     "output_type": "display_data"
    },
    {
     "name": "stdout",
     "output_type": "stream",
     "text": [
      "Standard deviation: 0.013500466163351287\n",
      "Normal distribution: NormaltestResult(statistic=0.8239252539870228, pvalue=0.6623490295641425)\n",
      "Mean: 0.1131173739473384\n",
      "\n",
      "\n"
     ]
    },
    {
     "data": {
      "image/png": "[encoded data removed]",
      "text/plain": [
       "<matplotlib.figure.Figure at 0x1151717b8>"
      ]
     },
     "metadata": {},
     "output_type": "display_data"
    },
    {
     "name": "stdout",
     "output_type": "stream",
     "text": [
      "Standard deviation: 0.01542009532566545\n",
      "Normal distribution: NormaltestResult(statistic=12.44142145754702, pvalue=0.001987831905751757)\n",
      "Mean: -0.30998490126355266\n",
      "\n",
      "\n"
     ]
    },
    {
     "data": {
      "image/png": "[encoded data removed]",
      "text/plain": [
       "<matplotlib.figure.Figure at 0x124ce3668>"
      ]
     },
     "metadata": {},
     "output_type": "display_data"
    },
    {
     "name": "stdout",
     "output_type": "stream",
     "text": [
      "Standard deviation: 0.017577200763926284\n",
      "Normal distribution: NormaltestResult(statistic=3097.9475036335843, pvalue=0.0)\n",
      "Mean: 9.818296377068556\n",
      "\n",
      "\n",
      "\n",
      "\n",
      "Position 3\n"
     ]
    },
    {
     "data": {
      "image/png": "[encoded data removed]",
      "text/plain": [
       "<matplotlib.figure.Figure at 0x115a740b8>"
      ]
     },
     "metadata": {},
     "output_type": "display_data"
    },
    {
     "name": "stdout",
     "output_type": "stream",
     "text": [
      "Standard deviation: 0.5304005007505965\n",
      "Normal distribution: NormaltestResult(statistic=18067.28204409421, pvalue=0.0)\n",
      "Mean: 0.10304137861396641\n",
      "\n",
      "\n"
     ]
    },
    {
     "data": {
      "image/png": "[encoded data removed]",
      "text/plain": [
       "<matplotlib.figure.Figure at 0x115669da0>"
      ]
     },
     "metadata": {},
     "output_type": "display_data"
    },
    {
     "name": "stdout",
     "output_type": "stream",
     "text": [
      "Standard deviation: 0.25070171630613275\n",
      "Normal distribution: NormaltestResult(statistic=18385.28121315684, pvalue=0.0)\n",
      "Mean: -0.2752351321614892\n",
      "\n",
      "\n"
     ]
    },
    {
     "data": {
      "image/png": "[encoded data removed]",
      "text/plain": [
       "<matplotlib.figure.Figure at 0x1154c8b70>"
      ]
     },
     "metadata": {},
     "output_type": "display_data"
    },
    {
     "name": "stdout",
     "output_type": "stream",
     "text": [
      "Standard deviation: 0.34738710240417187\n",
      "Normal distribution: NormaltestResult(statistic=16527.776140648366, pvalue=0.0)\n",
      "Mean: 9.805790338795557\n",
      "\n",
      "\n"
     ]
    }
   ],
   "source": [
    "def plot_and_calculate(x_accs, y_accs, z_accs):\n",
    "    ######################################################################\n",
    "    # X\n",
    "    ######################################################################\n",
    "    # plot histogram\n",
    "    figure, axis = plot.subplots()\n",
    "    counts, bins, patches = axis.hist(x_accs)\n",
    "    axis.set_xticks(bins[0::2])\n",
    "    plot.xlabel('x acceleration')\n",
    "    plot.show()\n",
    "    # calculate standard deviation\n",
    "    x_accs_standard_deviation = numpy.std(x_accs)\n",
    "    print('Standard deviation: ' + str(x_accs_standard_deviation))\n",
    "    # test for normal distribution\n",
    "    print('Normal distribution: ' + str(scipy.stats.normaltest(x_accs)))\n",
    "    x_accs_mean = numpy.mean(x_accs)\n",
    "    print('Mean: ' + str(x_accs_mean) + '\\n\\n')\n",
    "    ######################################################################\n",
    "    # Y\n",
    "    ######################################################################\n",
    "    figure, axis = plot.subplots()\n",
    "    counts, bins, patches = axis.hist(y_accs)\n",
    "    axis.set_xticks(bins[0::2])\n",
    "    plot.xlabel('y acceleration')\n",
    "    plot.show()\n",
    "    # calculate standard deviation\n",
    "    y_accs_standard_deviation = numpy.std(y_accs)\n",
    "    print('Standard deviation: ' + str(y_accs_standard_deviation))\n",
    "    # test for normal distribution\n",
    "    print('Normal distribution: ' + str(scipy.stats.normaltest(y_accs)))\n",
    "    y_accs_mean = numpy.mean(y_accs)\n",
    "    print('Mean: ' + str(y_accs_mean) + '\\n\\n')\n",
    "    ######################################################################\n",
    "    # Z\n",
    "    ######################################################################\n",
    "    figure, axis = plot.subplots()\n",
    "    counts, bins, patches = axis.hist(z_accs)\n",
    "    axis.set_xticks(bins)\n",
    "    plot.xlabel('z acceleration')\n",
    "    plot.show()\n",
    "    # calculate standard deviation\n",
    "    z_accs_standard_deviation = numpy.std(z_accs)\n",
    "    print('Standard deviation: ' + str(z_accs_standard_deviation))\n",
    "    # test for normal distribution\n",
    "    print('Normal distribution: ' + str(scipy.stats.normaltest(z_accs)))\n",
    "    z_accs_mean = numpy.mean(z_accs)\n",
    "    print('Mean: ' + str(z_accs_mean) + '\\n\\n')\n",
    "    ############################################\n",
    "\n",
    "######################################################################\n",
    "# Position 1\n",
    "######################################################################\n",
    "print('\\n\\n' + 'Position 1')\n",
    "acc_measurements_pos1 = logs['still_medium'].loc[logs['still_medium']['type'] == 'ACC']\n",
    "x_accs_pos1 = acc_measurements_pos1['c'].astype(float)\n",
    "y_accs_pos1 = acc_measurements_pos1['d'].astype(float)\n",
    "z_accs_pos1 = acc_measurements_pos1['e'].astype(float)\n",
    "plot_and_calculate(x_accs_pos1, y_accs_pos1, z_accs_pos1)\n",
    "######################################################################\n",
    "# Position 2\n",
    "######################################################################\n",
    "print('\\n\\n' + 'Position 2')\n",
    "acc_measurements_pos1 = logs['still_close'].loc[logs['still_close']['type'] == 'ACC']\n",
    "x_accs_pos2 = acc_measurements_pos1['c'].astype(float)\n",
    "y_accs_pos2 = acc_measurements_pos1['d'].astype(float)\n",
    "z_accs_pos2 = acc_measurements_pos1['e'].astype(float)\n",
    "plot_and_calculate(x_accs_pos2, y_accs_pos2, z_accs_pos2)\n",
    "######################################################################\n",
    "# Position 3\n",
    "######################################################################\n",
    "print('\\n\\n' + 'Position 3')\n",
    "acc_measurements_pos1 = logs['still_far'].loc[logs['still_far']['type'] == 'ACC']\n",
    "x_accs_pos2 = acc_measurements_pos1['c'].astype(float)\n",
    "y_accs_pos2 = acc_measurements_pos1['d'].astype(float)\n",
    "z_accs_pos2 = acc_measurements_pos1['e'].astype(float)\n",
    "plot_and_calculate(x_accs_pos2, y_accs_pos2, z_accs_pos2)\n",
    "\n"
   ]
  },
  {
   "cell_type": "markdown",
   "metadata": {},
   "source": [
    "The observed means of the gravity vectors are slightly lower than the expected one for Umeå at a location roughly 100 meters above sealevel. The variations are not normally distributed. Discretization effects can be observed."
   ]
  },
  {
   "cell_type": "markdown",
   "metadata": {},
   "source": [
    "### Gyroscope\n",
    "The phone I used (Motorola 4G Play) does not have a gyroscope."
   ]
  },
  {
   "cell_type": "markdown",
   "metadata": {},
   "source": [
    "### Wifi RSSI\n",
    "Plot histograms of the Wifi RSSI measurements (using the logs ``still_medium``, ``still_close``, and ``still_far``) and calculate standard deviations and means.\n",
    "**Note:** In the ``still_medium`` and ``still_far`` logs the signal is somewhat obstructed by walls.\n"
   ]
  },
  {
   "cell_type": "code",
   "execution_count": 130,
   "metadata": {},
   "outputs": [
    {
     "name": "stdout",
     "output_type": "stream",
     "text": [
      "Close distance (some centimeters)\n"
     ]
    },
    {
     "data": {
      "image/png": "[encoded data removed]",
      "text/plain": [
       "<matplotlib.figure.Figure at 0x116c5b7b8>"
      ]
     },
     "metadata": {},
     "output_type": "display_data"
    },
    {
     "name": "stdout",
     "output_type": "stream",
     "text": [
      "Standard deviation: 7.953947473002107\n",
      "Mean: -22.26086956521739\n",
      "\n",
      "\n",
      "Medium distance (1.5-2 meters)\n"
     ]
    },
    {
     "data": {
      "image/png": "[encoded data removed]",
      "text/plain": [
       "<matplotlib.figure.Figure at 0x116438f60>"
      ]
     },
     "metadata": {},
     "output_type": "display_data"
    },
    {
     "name": "stdout",
     "output_type": "stream",
     "text": [
      "Standard deviation: 11.882524911684367\n",
      "Mean: -66.96407438715131\n",
      "\n",
      "\n",
      "Far distance (approx. 5 meters)\n"
     ]
    },
    {
     "data": {
      "image/png": "[encoded data removed]",
      "text/plain": [
       "<matplotlib.figure.Figure at 0x114d7e518>"
      ]
     },
     "metadata": {},
     "output_type": "display_data"
    },
    {
     "name": "stdout",
     "output_type": "stream",
     "text": [
      "Standard deviation: 12.9138904402061\n",
      "Mean: -70.76414273281114\n"
     ]
    }
   ],
   "source": [
    "router = 'TeliaGateway30-91-8F-2D-37-33'\n",
    "wifi_measurements_close = logs['still_close'].loc[logs['still_close']['type'] == 'RSSWIFI'].loc[logs['still_close']['d'] == router]\n",
    "wifi_measurements_medium = logs['still_medium'].loc[logs['still_medium']['type'] == 'RSSWIFI']\n",
    "wifi_measurements_far = logs['still_far'].loc[logs['still_far']['type'] == 'RSSWIFI']\n",
    "signal_strength_close = wifi_measurements_close['f'].as_matrix().astype(float)\n",
    "signal_strength_medium = wifi_measurements_medium['f'].as_matrix().astype(float)\n",
    "signal_strength_far= wifi_measurements_far['f'].as_matrix().astype(float)\n",
    "######################################################################\n",
    "# Close to access point\n",
    "######################################################################\n",
    "# plot histogram\n",
    "figure, axis = plot.subplots()\n",
    "counts, bins, patches = axis.hist(signal_strength_close)\n",
    "plot.xlabel('Signal strength')\n",
    "print('Close distance (some centimeters)')\n",
    "plot.show()\n",
    "# calculate standard deviation\n",
    "signal_strength_standard_deviation_close = numpy.std(signal_strength_close)\n",
    "print('Standard deviation: ' + str(signal_strength_standard_deviation_close))\n",
    "# calculate mean\n",
    "signal_strength_mean_close = numpy.mean(signal_strength_close)\n",
    "print('Mean: ' + str(signal_strength_mean_close) + '\\n\\n')\n",
    "######################################################################\n",
    "# Further away from to access point\n",
    "######################################################################\n",
    "# plot histogram\n",
    "figure, axis = plot.subplots()\n",
    "counts, bins, patches = axis.hist(signal_strength_medium)\n",
    "plot.xlabel('Signal strength')\n",
    "print('Medium distance (1.5-2 meters)')\n",
    "plot.show()\n",
    "# calculate standard deviation\n",
    "signal_strength_standard_deviation_medium = numpy.std(signal_strength_medium)\n",
    "print('Standard deviation: ' + str(signal_strength_standard_deviation_medium))\n",
    "signal_strength_mean_medium = numpy.mean(signal_strength_medium)\n",
    "print('Mean: ' + str(signal_strength_mean_medium) + '\\n\\n')\n",
    "######################################################################\n",
    "# Even further away from to access point\n",
    "######################################################################\n",
    "# plot histogram\n",
    "figure, axis = plot.subplots()\n",
    "counts, bins, patches = axis.hist(signal_strength_far)\n",
    "plot.xlabel('Signal strength')\n",
    "print('Far distance (approx. 5 meters)')\n",
    "plot.show()\n",
    "# calculate standard deviation\n",
    "signal_strength_standard_deviation_far = numpy.std(signal_strength_far)\n",
    "print('Standard deviation: ' + str(signal_strength_standard_deviation_far))\n",
    "# calculate mean\n",
    "signal_strength_mean_far = numpy.mean(signal_strength_far)\n",
    "print('Mean: ' + str(signal_strength_mean_far))"
   ]
  },
  {
   "cell_type": "markdown",
   "metadata": {},
   "source": [
    "Considering that the outliers in the \"close to access point\" logs can be removed with little effort, it can be concluded that using the signal strenghts to determine the distance from the wifi access point is more practicable the closer the device is to the access point. Given our measurements, distinguishing between approx. 1.5-2 and approx. 5 meters from the access point is already challenging, at least if the data is relatively small (example use case: locating a moving object in real time).\n",
    "\n",
    "**Note:** In the *further away* measurements, the Wifi signal is to some extend obstructed by walls. This could potentially confound the findings. "
   ]
  },
  {
   "cell_type": "markdown",
   "metadata": {},
   "source": [
    "## Zero gravity app\n",
    "As an example for real time data analysis, an app that measures 'zero gravity' periods--that is periods during which the following condition is true:"
   ]
  },
  {
   "cell_type": "markdown",
   "metadata": {},
   "source": [
    "$$\\sqrt{a{x}^2 + a^2{y} + a{z}^2} < 0.1ms^{-2}$$"
   ]
  },
  {
   "cell_type": "markdown",
   "metadata": {},
   "source": [
    "\n",
    "The app determines the longest 'zero gravity' period by calculating every millisecond, if the current period is 'zero gravity' and if yes, it increases the length of a ``currentPeriod`` variable. If the ``currentPeriod`` variable holds a higher value than the ``longestPeriod``, the ``longestPeriod`` variable is updated and displayed to the user.\n",
    "\n",
    "**Note:** The app doesn't save the result to disk, so it always displays the longest 'zero gravity' period of the current run.\n",
    "\n",
    "Below you find the code (Kotlin) of the app's main activity (without imports):\n",
    "\n",
    "```\n",
    "class MainActivity : AppCompatActivity(), SensorEventListener {\n",
    "\n",
    "    private var longestPeriodLength: Long = 0\n",
    "    private var startTimeCurrentPeriod: Long? = null\n",
    "\n",
    "    private lateinit var sensorManager : SensorManager\n",
    "\n",
    "\n",
    "    override fun onCreate(savedInstanceState: Bundle?) {\n",
    "        super.onCreate(savedInstanceState)\n",
    "        if(savedInstanceState == null){\n",
    "            setContentView(R.layout.activity_main)\n",
    "            // set up sensor listener\n",
    "            sensorManager = getSystemService(Context.SENSOR_SERVICE) as SensorManager\n",
    "            sensorManager.registerListener(\n",
    "                    this,\n",
    "                    sensorManager.getDefaultSensor(Sensor.TYPE_ACCELEROMETER),\n",
    "                    SensorManager.SENSOR_DELAY_NORMAL\n",
    "            )\n",
    "        }\n",
    "    }\n",
    "\n",
    "    override fun onSensorChanged(event: SensorEvent?) {\n",
    "        val isZeroGravity = checkZeroGravity(event!!)\n",
    "        if(isZeroGravity && startTimeCurrentPeriod == null) {\n",
    "            // start new zero gravity period\n",
    "            startTimeCurrentPeriod = event!!.timestamp\n",
    "\n",
    "        } else if(!isZeroGravity && startTimeCurrentPeriod != null) {\n",
    "            // end current zero gravity period\n",
    "            /*Log.d(\"T\", event.timestamp.toString())\n",
    "            Log.d(\"T\", startTimeCurrentPeriod!!.toString())*/\n",
    "            val currentPeriodLength = // calculate difference and convert nano to milliseconds\n",
    "                    (event.timestamp - startTimeCurrentPeriod!!) / 1000000\n",
    "            startTimeCurrentPeriod = null\n",
    "            last.text = \"Last zero gravity period: ${currentPeriodLength.toString()}ms\"\n",
    "            if(currentPeriodLength > longestPeriodLength) {\n",
    "                longestPeriodLength = currentPeriodLength\n",
    "                longest.text =\n",
    "                        \"Longest zero gravity period: ${longestPeriodLength.toString()}ms\"\n",
    "            }\n",
    "        }\n",
    "    }\n",
    "\n",
    "    override fun onAccuracyChanged(p0: Sensor?, p1: Int) {\n",
    "        // Do nothing\n",
    "    }\n",
    "\n",
    "    private fun checkZeroGravity(event: SensorEvent): Boolean {\n",
    "        val x = event!!.values[0].toDouble()\n",
    "        val y = event!!.values[1].toDouble()\n",
    "        val z = event!!.values[2].toDouble()\n",
    "        if(Math.sqrt(Math.pow(x, 2.0) + Math.pow(y, 2.0) + Math.pow(z, 2.0)) < 0.1) {\n",
    "            return true\n",
    "        }\n",
    "        return false\n",
    "    }\n",
    "}\n",
    "\n",
    "```\n",
    "You find the whole source code of the app on GitHub at [https://github.com/TimKam/phone-sensors/tree/master/apps/zero_gravity](https://github.com/TimKam/phone-sensors/tree/master/apps/zero_gravity)\n",
    "After a couple of tests (simply throwing the phone into the air), the longest 'zero gravity' period that could be achieved was 924 ms."
   ]
  },
  {
   "cell_type": "markdown",
   "metadata": {},
   "source": [
    "## Tremor measuring app"
   ]
  },
  {
   "cell_type": "markdown",
   "metadata": {},
   "source": [
    "## Activity detector"
   ]
  },
  {
   "cell_type": "code",
   "execution_count": 136,
   "metadata": {},
   "outputs": [],
   "source": []
  },
  {
   "cell_type": "code",
   "execution_count": null,
   "metadata": {},
   "outputs": [],
   "source": []
  }
 ],
 "metadata": {
  "kernelspec": {
   "display_name": "Python 3",
   "language": "python",
   "name": "python3"
  },
  "language_info": {
   "codemirror_mode": {
    "name": "ipython",
    "version": 3
   },
   "file_extension": ".py",
   "mimetype": "text/x-python",
   "name": "python",
   "nbconvert_exporter": "python",
   "pygments_lexer": "ipython3",
   "version": "3.6.4"
  }
 },
 "nbformat": 4,
 "nbformat_minor": 2
}
